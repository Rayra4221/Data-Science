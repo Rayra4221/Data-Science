{
 "cells": [
  {
   "cell_type": "markdown",
   "id": "c86fca45-dc33-458b-ab9a-83e85728ee39",
   "metadata": {},
   "source": [
    "# DataScienceEcosystem.ipynd"
   ]
  },
  {
   "cell_type": "markdown",
   "id": "1d2d389a-1c0b-42b8-9995-c132873c4d03",
   "metadata": {},
   "source": [
    "## In this notebook, Data Science Tools and Ecosystem are summarized."
   ]
  },
  {
   "cell_type": "markdown",
   "id": "32eaa7a2-c678-4c12-9a0f-eba045c39c08",
   "metadata": {},
   "source": [
    "### __Objectives:__"
   ]
  },
  {
   "cell_type": "markdown",
   "id": "caeaddfe-e128-474e-b426-bd1b038af917",
   "metadata": {},
   "source": [
    "* List popular libraries that Data Scientists use.\n",
    "* List Data Science Tools\n",
    "* List popular languages for Data Science\n",
    "* Show- minutes to hours conversion"
   ]
  },
  {
   "cell_type": "markdown",
   "id": "0d6d095c-6a78-4d95-88d2-8f2d8fd49857",
   "metadata": {},
   "source": [
    "#### Some of the popular languages that Data Scientists use are:\n",
    "\n",
    "1. Python\n",
    "2. R\n",
    "3. SQL"
   ]
  },
  {
   "cell_type": "markdown",
   "id": "03fa37eb-8444-4370-b67a-1fccde5e3c34",
   "metadata": {},
   "source": [
    "#### Some of the commonly used libraries used by Data Scientists include:\n",
    "\n",
    "1. Pandas\n",
    "2. NumPy\n",
    "3. Seaborn"
   ]
  },
  {
   "cell_type": "markdown",
   "id": "63d638f7-3276-4211-9dff-46c5437e0994",
   "metadata": {},
   "source": [
    "Data Science Tools |\n",
    "-------------------|\n",
    "MySQL              |\n",
    "Apache Cassandra   |\n",
    "Hadoop File System |"
   ]
  },
  {
   "cell_type": "markdown",
   "id": "206740aa-e569-4591-9cd5-1477c23a5df7",
   "metadata": {},
   "source": [
    "### Below are a few examples of evaluating arithmetic expressions in Python."
   ]
  },
  {
   "cell_type": "code",
   "execution_count": 44,
   "id": "47fbe9f9-ebf4-44de-b314-b5b3c42c26d2",
   "metadata": {},
   "outputs": [
    {
     "name": "stdout",
     "output_type": "stream",
     "text": [
      "This is a simple arithmetic expression to multiply then add integers\n"
     ]
    }
   ],
   "source": [
    "print(f\"This is a simple arithmetic expression to multiply then add integers\")"
   ]
  },
  {
   "cell_type": "code",
   "execution_count": 46,
   "id": "53defdb2-8d2c-45e0-81dd-3dfee0c3fad7",
   "metadata": {},
   "outputs": [
    {
     "data": {
      "text/plain": [
       "17"
      ]
     },
     "execution_count": 46,
     "metadata": {},
     "output_type": "execute_result"
    }
   ],
   "source": [
    ">>> (3*4)+5"
   ]
  },
  {
   "cell_type": "markdown",
   "id": "ae802bb4-4f0f-490d-999b-f1e291d9cf59",
   "metadata": {},
   "source": [
    "#### This will convert 200 minutes into hours by dividing by 60"
   ]
  },
  {
   "cell_type": "code",
   "execution_count": 59,
   "id": "7d97d42a-7d53-40dc-a2e0-81335cc5ed37",
   "metadata": {},
   "outputs": [
    {
     "data": {
      "text/plain": [
       "3.3333333333333335"
      ]
     },
     "execution_count": 59,
     "metadata": {},
     "output_type": "execute_result"
    }
   ],
   "source": [
    ">>> 200/60"
   ]
  },
  {
   "cell_type": "markdown",
   "id": "09c74f70-fa8c-4b2e-9794-20ee96e353a2",
   "metadata": {},
   "source": [
    "## Author\n",
    "##### Shelby M. "
   ]
  }
 ],
 "metadata": {
  "kernelspec": {
   "display_name": "anaconda-2024.02-py310",
   "language": "python",
   "name": "conda-env-anaconda-2024.02-py310-py"
  },
  "language_info": {
   "codemirror_mode": {
    "name": "ipython",
    "version": 3
   },
   "file_extension": ".py",
   "mimetype": "text/x-python",
   "name": "python",
   "nbconvert_exporter": "python",
   "pygments_lexer": "ipython3",
   "version": "3.10.14"
  }
 },
 "nbformat": 4,
 "nbformat_minor": 5
}
